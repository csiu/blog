{
 "cells": [
  {
   "cell_type": "code",
   "execution_count": 1,
   "metadata": {
    "collapsed": true
   },
   "outputs": [],
   "source": [
    "from selenium import webdriver\n",
    "from bs4 import BeautifulSoup\n",
    "import pandas as pd\n",
    "import time"
   ]
  },
  {
   "cell_type": "code",
   "execution_count": 2,
   "metadata": {
    "collapsed": true
   },
   "outputs": [],
   "source": [
    "class ProductListing:\n",
    "    def __init__(self, soup):\n",
    "        self.soup = soup\n",
    "    \n",
    "    def name(self):\n",
    "        return self.soup.a.string\n",
    "    \n",
    "    def link(self):\n",
    "        return self.soup.a.get(\"href\")\n",
    "    \n",
    "    def itemId(self):\n",
    "        return self.soup.a.get(\"href\").split('/')[-1]\n",
    "    \n",
    "    def rating(self):\n",
    "        return self.soup.find('span', class_='bv-text-link').string\n",
    "    \n",
    "    def price(self):\n",
    "        return self.soup.find(\"span\", class_=\"actual-price\").meta.string.strip()"
   ]
  },
  {
   "cell_type": "code",
   "execution_count": 3,
   "metadata": {
    "collapsed": true
   },
   "outputs": [],
   "source": [
    "# setup chrome webdriver\n",
    "path_to_chromedriver = '/Users/csiu/lib/chromedriver'\n",
    "browser = webdriver.Chrome(executable_path = path_to_chromedriver)"
   ]
  },
  {
   "cell_type": "code",
   "execution_count": 4,
   "metadata": {
    "collapsed": true
   },
   "outputs": [],
   "source": [
    "# get info\n",
    "url = 'http://www.gouletpens.com/noodlers-bottled-ink/c/128/?pageSize=500'\n",
    "browser.get(url)"
   ]
  },
  {
   "cell_type": "code",
   "execution_count": 5,
   "metadata": {
    "collapsed": true
   },
   "outputs": [],
   "source": [
    "element = browser.find_elements_by_xpath('//div[@class=\"mz-productlisting-info\"]')\n",
    "time.sleep(10) ## to give the browser time for js to generate content (?)"
   ]
  },
  {
   "cell_type": "code",
   "execution_count": 6,
   "metadata": {
    "collapsed": false
   },
   "outputs": [],
   "source": [
    "data = {\n",
    "    \"name\":[],\n",
    "    \"itemId\":[],\n",
    "    \"rating\":[],\n",
    "    \"price\":[]\n",
    "}\n",
    "for e in element:\n",
    "    htmlData = e.get_attribute('innerHTML')\n",
    "    soup = BeautifulSoup(htmlData, 'html.parser')\n",
    "    \n",
    "    pl = ProductListing(soup)\n",
    "    data[\"name\"].append(pl.name())\n",
    "    data[\"itemId\"].append(pl.itemId())\n",
    "    data[\"rating\"].append(pl.rating())\n",
    "    data[\"price\"].append(pl.price())"
   ]
  },
  {
   "cell_type": "markdown",
   "metadata": {},
   "source": [
    "**Top 10: Highest rated Noodler's ink products from Goulet Pens**"
   ]
  },
  {
   "cell_type": "code",
   "execution_count": 7,
   "metadata": {
    "collapsed": false
   },
   "outputs": [
    {
     "data": {
      "text/html": [
       "<div style=\"max-height:1000px;max-width:1500px;overflow:auto;\">\n",
       "<table border=\"1\" class=\"dataframe\">\n",
       "  <thead>\n",
       "    <tr style=\"text-align: right;\">\n",
       "      <th></th>\n",
       "      <th>itemId</th>\n",
       "      <th>name</th>\n",
       "      <th>price</th>\n",
       "      <th>rating</th>\n",
       "    </tr>\n",
       "  </thead>\n",
       "  <tbody>\n",
       "    <tr>\n",
       "      <th>120</th>\n",
       "      <td> N19007</td>\n",
       "      <td>                Noodler's Violet (3oz Bottled Ink)</td>\n",
       "      <td> $12.50</td>\n",
       "      <td> 5.0</td>\n",
       "    </tr>\n",
       "    <tr>\n",
       "      <th>115</th>\n",
       "      <td> N19176</td>\n",
       "      <td>               Noodler's Sunrise (3oz Bottled Ink)</td>\n",
       "      <td> $10.00</td>\n",
       "      <td> 5.0</td>\n",
       "    </tr>\n",
       "    <tr>\n",
       "      <th>113</th>\n",
       "      <td> N19175</td>\n",
       "      <td>      Noodler's St. Patty's Eire (3oz Bottled Ink)</td>\n",
       "      <td> $12.50</td>\n",
       "      <td> 5.0</td>\n",
       "    </tr>\n",
       "    <tr>\n",
       "      <th>117</th>\n",
       "      <td> N19005</td>\n",
       "      <td>             Noodler's Turquoise (3oz Bottled Ink)</td>\n",
       "      <td> $12.50</td>\n",
       "      <td> 4.9</td>\n",
       "    </tr>\n",
       "    <tr>\n",
       "      <th>111</th>\n",
       "      <td> N19036</td>\n",
       "      <td>           Noodler's Shah's Rose (3oz Bottled Ink)</td>\n",
       "      <td> $12.50</td>\n",
       "      <td> 4.9</td>\n",
       "    </tr>\n",
       "    <tr>\n",
       "      <th>79 </th>\n",
       "      <td> N19029</td>\n",
       "      <td>      Noodler's Navajo Turquoise (3oz Bottled Ink)</td>\n",
       "      <td> $12.50</td>\n",
       "      <td> 4.9</td>\n",
       "    </tr>\n",
       "    <tr>\n",
       "      <th>64 </th>\n",
       "      <td> N19171</td>\n",
       "      <td>              Noodler's Hellfire (3oz Bottled Ink)</td>\n",
       "      <td> $12.50</td>\n",
       "      <td> 4.8</td>\n",
       "    </tr>\n",
       "    <tr>\n",
       "      <th>109</th>\n",
       "      <td> N19032</td>\n",
       "      <td>          Noodler's Saguaro Wine (3oz Bottled Ink)</td>\n",
       "      <td> $12.50</td>\n",
       "      <td> 4.8</td>\n",
       "    </tr>\n",
       "    <tr>\n",
       "      <th>17 </th>\n",
       "      <td> N19024</td>\n",
       "      <td>                Noodler's Beaver (3oz Bottled Ink)</td>\n",
       "      <td> $12.50</td>\n",
       "      <td> 4.8</td>\n",
       "    </tr>\n",
       "    <tr>\n",
       "      <th>125</th>\n",
       "      <td> N19819</td>\n",
       "      <td> Noodler's X-Feather (4.5oz Bottled Ink) with F...</td>\n",
       "      <td> $19.00</td>\n",
       "      <td> 4.8</td>\n",
       "    </tr>\n",
       "  </tbody>\n",
       "</table>\n",
       "</div>"
      ],
      "text/plain": [
       "     itemId                                               name   price rating\n",
       "120  N19007                 Noodler's Violet (3oz Bottled Ink)  $12.50    5.0\n",
       "115  N19176                Noodler's Sunrise (3oz Bottled Ink)  $10.00    5.0\n",
       "113  N19175       Noodler's St. Patty's Eire (3oz Bottled Ink)  $12.50    5.0\n",
       "117  N19005              Noodler's Turquoise (3oz Bottled Ink)  $12.50    4.9\n",
       "111  N19036            Noodler's Shah's Rose (3oz Bottled Ink)  $12.50    4.9\n",
       "79   N19029       Noodler's Navajo Turquoise (3oz Bottled Ink)  $12.50    4.9\n",
       "64   N19171               Noodler's Hellfire (3oz Bottled Ink)  $12.50    4.8\n",
       "109  N19032           Noodler's Saguaro Wine (3oz Bottled Ink)  $12.50    4.8\n",
       "17   N19024                 Noodler's Beaver (3oz Bottled Ink)  $12.50    4.8\n",
       "125  N19819  Noodler's X-Feather (4.5oz Bottled Ink) with F...  $19.00    4.8"
      ]
     },
     "execution_count": 7,
     "metadata": {},
     "output_type": "execute_result"
    }
   ],
   "source": [
    "df = pd.DataFrame(data)\n",
    "df.sort(columns=\"rating\", ascending=False, inplace=True)\n",
    "df.head(10)"
   ]
  },
  {
   "cell_type": "code",
   "execution_count": 8,
   "metadata": {
    "collapsed": true
   },
   "outputs": [],
   "source": [
    "df.to_csv(\"goulet-ranks.csv\", index=False)"
   ]
  }
 ],
 "metadata": {
  "kernelspec": {
   "display_name": "Python 2",
   "language": "python",
   "name": "python2"
  },
  "language_info": {
   "codemirror_mode": {
    "name": "ipython",
    "version": 2
   },
   "file_extension": ".py",
   "mimetype": "text/x-python",
   "name": "python",
   "nbconvert_exporter": "python",
   "pygments_lexer": "ipython2",
   "version": "2.7.11"
  }
 },
 "nbformat": 4,
 "nbformat_minor": 0
}
